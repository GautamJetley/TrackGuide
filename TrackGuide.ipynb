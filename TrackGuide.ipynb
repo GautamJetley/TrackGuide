{
  "nbformat": 4,
  "nbformat_minor": 0,
  "metadata": {
    "colab": {
      "provenance": []
    },
    "kernelspec": {
      "name": "python3",
      "display_name": "Python 3"
    },
    "language_info": {
      "name": "python"
    }
  },
  "cells": [
    {
      "cell_type": "code",
      "execution_count": 1,
      "metadata": {
        "colab": {
          "base_uri": "https://localhost:8080/"
        },
        "id": "ERBATrPA0ubm",
        "outputId": "83d3b137-13b9-482c-b187-afba086baa6e"
      },
      "outputs": [
        {
          "output_type": "stream",
          "name": "stdout",
          "text": [
            "Access token obtained successfully.\n"
          ]
        }
      ],
      "source": [
        "import requests\n",
        "import base64\n",
        "\n",
        "# Replace with your own Client ID and Client Secret\n",
        "CLIENT_ID = '907075463031424db4853a099d7e7ba8'\n",
        "CLIENT_SECRET = 'c1c979810c21423ebdd0f1b7ef973e52'\n",
        "\n",
        "# Base64 encode the client ID and client secret\n",
        "client_credentials = f\"{CLIENT_ID}:{CLIENT_SECRET}\"\n",
        "client_credentials_base64 = base64.b64encode(client_credentials.encode())\n",
        "\n",
        "# Request the access token\n",
        "token_url = 'https://accounts.spotify.com/api/token'\n",
        "headers = {\n",
        "    'Authorization': f'Basic {client_credentials_base64.decode()}'\n",
        "}\n",
        "data = {\n",
        "    'grant_type': 'client_credentials'\n",
        "}\n",
        "response = requests.post(token_url, data=data, headers=headers)\n",
        "\n",
        "if response.status_code == 200:\n",
        "    access_token = response.json()['access_token']\n",
        "    print(\"Access token obtained successfully.\")\n",
        "else:\n",
        "    print(\"Error obtaining access token.\")\n",
        "    exit()"
      ]
    },
    {
      "cell_type": "code",
      "source": [
        "pip install spotipy"
      ],
      "metadata": {
        "colab": {
          "base_uri": "https://localhost:8080/"
        },
        "id": "khEDTHxY10cD",
        "outputId": "4038fac7-70ef-488f-e1a5-506f94b67356"
      },
      "execution_count": 2,
      "outputs": [
        {
          "output_type": "stream",
          "name": "stdout",
          "text": [
            "Collecting spotipy\n",
            "  Downloading spotipy-2.24.0-py3-none-any.whl.metadata (4.9 kB)\n",
            "Collecting redis>=3.5.3 (from spotipy)\n",
            "  Downloading redis-5.0.8-py3-none-any.whl.metadata (9.2 kB)\n",
            "Requirement already satisfied: requests>=2.25.0 in /usr/local/lib/python3.10/dist-packages (from spotipy) (2.32.3)\n",
            "Requirement already satisfied: urllib3>=1.26.0 in /usr/local/lib/python3.10/dist-packages (from spotipy) (2.0.7)\n",
            "Requirement already satisfied: async-timeout>=4.0.3 in /usr/local/lib/python3.10/dist-packages (from redis>=3.5.3->spotipy) (4.0.3)\n",
            "Requirement already satisfied: charset-normalizer<4,>=2 in /usr/local/lib/python3.10/dist-packages (from requests>=2.25.0->spotipy) (3.3.2)\n",
            "Requirement already satisfied: idna<4,>=2.5 in /usr/local/lib/python3.10/dist-packages (from requests>=2.25.0->spotipy) (3.8)\n",
            "Requirement already satisfied: certifi>=2017.4.17 in /usr/local/lib/python3.10/dist-packages (from requests>=2.25.0->spotipy) (2024.8.30)\n",
            "Downloading spotipy-2.24.0-py3-none-any.whl (30 kB)\n",
            "Downloading redis-5.0.8-py3-none-any.whl (255 kB)\n",
            "\u001b[2K   \u001b[90m━━━━━━━━━━━━━━━━━━━━━━━━━━━━━━━━━━━━━━━━\u001b[0m \u001b[32m255.6/255.6 kB\u001b[0m \u001b[31m6.0 MB/s\u001b[0m eta \u001b[36m0:00:00\u001b[0m\n",
            "\u001b[?25hInstalling collected packages: redis, spotipy\n",
            "Successfully installed redis-5.0.8 spotipy-2.24.0\n"
          ]
        }
      ]
    },
    {
      "cell_type": "code",
      "source": [
        "import pandas as pd\n",
        "import spotipy\n",
        "from spotipy.oauth2 import SpotifyOAuth\n",
        "\n",
        "def get_trending_playlist_data(playlist_id, access_token):\n",
        "    # Set up Spotipy with the access token\n",
        "    sp = spotipy.Spotify(auth=access_token)\n",
        "\n",
        "    # Get the tracks from the playlist\n",
        "    playlist_tracks = sp.playlist_tracks(playlist_id, fields='items(track(id, name, artists, album(id, name)))')\n",
        "\n",
        "    # Extract relevant information and store in a list of dictionaries\n",
        "    music_data = []\n",
        "    for track_info in playlist_tracks['items']:\n",
        "        track = track_info['track']\n",
        "        track_name = track['name']\n",
        "        artists = ', '.join([artist['name'] for artist in track['artists']])\n",
        "        album_name = track['album']['name']\n",
        "        album_id = track['album']['id']\n",
        "        track_id = track['id']\n",
        "\n",
        "        # Get audio features for the track\n",
        "        audio_features = sp.audio_features(track_id)[0] if track_id != 'Not available' else None\n",
        "\n",
        "        # Get release date of the album\n",
        "        try:\n",
        "            album_info = sp.album(album_id) if album_id != 'Not available' else None\n",
        "            release_date = album_info['release_date'] if album_info else None\n",
        "        except:\n",
        "            release_date = None\n",
        "\n",
        "        # Get popularity of the track\n",
        "        try:\n",
        "            track_info = sp.track(track_id) if track_id != 'Not available' else None\n",
        "            popularity = track_info['popularity'] if track_info else None\n",
        "        except:\n",
        "            popularity = None\n",
        "\n",
        "        # Add additional track information to the track data\n",
        "        track_data = {\n",
        "            'Track Name': track_name,\n",
        "            'Artists': artists,\n",
        "            'Album Name': album_name,\n",
        "            'Album ID': album_id,\n",
        "            'Track ID': track_id,\n",
        "            'Popularity': popularity,\n",
        "            'Release Date': release_date,\n",
        "            'Duration (ms)': audio_features['duration_ms'] if audio_features else None,\n",
        "            'Explicit': track_info.get('explicit', None),\n",
        "            'External URLs': track_info.get('external_urls', {}).get('spotify', None),\n",
        "            'Danceability': audio_features['danceability'] if audio_features else None,\n",
        "            'Energy': audio_features['energy'] if audio_features else None,\n",
        "            'Key': audio_features['key'] if audio_features else None,\n",
        "            'Loudness': audio_features['loudness'] if audio_features else None,\n",
        "            'Mode': audio_features['mode'] if audio_features else None,\n",
        "            'Speechiness': audio_features['speechiness'] if audio_features else None,\n",
        "            'Acousticness': audio_features['acousticness'] if audio_features else None,\n",
        "            'Instrumentalness': audio_features['instrumentalness'] if audio_features else None,\n",
        "            'Liveness': audio_features['liveness'] if audio_features else None,\n",
        "            'Valence': audio_features['valence'] if audio_features else None,\n",
        "            'Tempo': audio_features['tempo'] if audio_features else None,\n",
        "            # Add more attributes as needed\n",
        "        }\n",
        "\n",
        "        music_data.append(track_data)\n",
        "\n",
        "    # Create a pandas DataFrame from the list of dictionaries\n",
        "    df = pd.DataFrame(music_data)\n",
        "\n",
        "    return df"
      ],
      "metadata": {
        "id": "ylPx7qus14S9"
      },
      "execution_count": 3,
      "outputs": []
    },
    {
      "cell_type": "code",
      "source": [
        "playlist_id = '37i9dQZF1DX76Wlfdnj7AP'\n",
        "\n",
        "# Call the function to get the music data from the playlist and store it in a DataFrame\n",
        "music_df = get_trending_playlist_data(playlist_id, access_token)\n",
        "\n",
        "# Display the DataFrame\n",
        "print(music_df)"
      ],
      "metadata": {
        "colab": {
          "base_uri": "https://localhost:8080/"
        },
        "id": "j02yEalj2MKk",
        "outputId": "8628ee0a-4134-4e90-fa6f-72f50a20d09f"
      },
      "execution_count": 4,
      "outputs": [
        {
          "output_type": "stream",
          "name": "stdout",
          "text": [
            "                               Track Name                             Artists  \\\n",
            "0                             Not Like Us                      Kendrick Lamar   \n",
            "1                               Big Dawgs                  Hanumankind, Kalmi   \n",
            "2           Guess featuring Billie Eilish           Charli xcx, Billie Eilish   \n",
            "3   I Had Some Help (Feat. Morgan Wallen)          Post Malone, Morgan Wallen   \n",
            "4                      I Don't Wanna Wait           David Guetta, OneRepublic   \n",
            "..                                    ...                                 ...   \n",
            "95                          Where You Are                  John Summit, HAYLA   \n",
            "96                             Area Codes                              Kaliii   \n",
            "97      Princess Diana (with Nicki Minaj)              Ice Spice, Nicki Minaj   \n",
            "98                      Edge of Seventeen                                Wuki   \n",
            "99   HOT ONE (with TiaCorine & A$AP Ferg)  Denzel Curry, TiaCorine, A$AP Ferg   \n",
            "\n",
            "                              Album Name                Album ID  \\\n",
            "0                            Not Like Us  5JjnoGJyOxfSZUZtk2rRwZ   \n",
            "1                              Big Dawgs  6Yw4204wbgmpsGTzjXBhYD   \n",
            "2          Guess featuring Billie Eilish  3ThlxfLSy4bfKzxWqmC7VN   \n",
            "3                        I Had Some Help  1woYXxyyxTQJ0E0AhZE6mj   \n",
            "4                     I Don't Wanna Wait  0wCLHkBRKcndhMQQpeo8Ji   \n",
            "..                                   ...                     ...   \n",
            "95                         Where You Are  4bIEy1wDeaEklS1BanbsmR   \n",
            "96                            Area Codes  6uk3hBYbrMsSzufADPjv9K   \n",
            "97     Princess Diana (with Nicki Minaj)  2Q7WBQ794rA9ISPLfqdKjK   \n",
            "98                     Edge of Seventeen  6oeEtPWpOfed7plMHI5qef   \n",
            "99  HOT ONE (with TiaCorine & A$AP Ferg)  4T64HQK7hobpqtvq8284zI   \n",
            "\n",
            "                  Track ID  Popularity Release Date  Duration (ms)  Explicit  \\\n",
            "0   6AI3ezQ4o3HUoP6Dhudph3          94   2024-05-04         274192      True   \n",
            "1   0OA00aPt3BV10qeMIs3meW          93   2024-07-09         190667      True   \n",
            "2   3WOhcATHxK2SLNeP5W3v1v          92   2024-08-01         145219     False   \n",
            "3   7221xIgOnuakPdLqT0F3nP          92   2024-05-10         178206      True   \n",
            "4   331l3xABO0HMr1Kkyh2LZq          90   2024-04-05         149668     False   \n",
            "..                     ...         ...          ...            ...       ...   \n",
            "95  4qDpLaFGf5ampf2DXD2TMA          70   2023-03-03         236000     False   \n",
            "96  7sliFe6W30tPBPh6dvZsIH          70   2023-03-17         139326      True   \n",
            "97  0ZxhtATQ0a6EvQNZ0z6NKV          70   2023-04-14         172125      True   \n",
            "98  5IFSvSEeCAvvBEQ85poqKB          70   2022-10-21         164043     False   \n",
            "99  083HuPvgqYBLUiv82bVxwE          69   2024-06-05         165271      True   \n",
            "\n",
            "                                        External URLs  ...  Energy  Key  \\\n",
            "0   https://open.spotify.com/track/6AI3ezQ4o3HUoP6...  ...   0.472    1   \n",
            "1   https://open.spotify.com/track/0OA00aPt3BV10qe...  ...   0.745    4   \n",
            "2   https://open.spotify.com/track/3WOhcATHxK2SLNe...  ...   0.667    7   \n",
            "3   https://open.spotify.com/track/7221xIgOnuakPdL...  ...   0.855    7   \n",
            "4   https://open.spotify.com/track/331l3xABO0HMr1K...  ...   0.714    1   \n",
            "..                                                ...  ...     ...  ...   \n",
            "95  https://open.spotify.com/track/4qDpLaFGf5ampf2...  ...   0.830    9   \n",
            "96  https://open.spotify.com/track/7sliFe6W30tPBPh...  ...   0.388    1   \n",
            "97  https://open.spotify.com/track/0ZxhtATQ0a6EvQN...  ...   0.689    9   \n",
            "98  https://open.spotify.com/track/5IFSvSEeCAvvBEQ...  ...   0.909    5   \n",
            "99  https://open.spotify.com/track/083HuPvgqYBLUiv...  ...   0.724    5   \n",
            "\n",
            "    Loudness  Mode  Speechiness  Acousticness  Instrumentalness  Liveness  \\\n",
            "0     -7.001     1       0.0776       0.01070            0.0000    0.1410   \n",
            "1     -3.202     0       0.1610       0.02350            0.0000    0.3630   \n",
            "2     -6.622     1       0.0983       0.01460            0.3000    0.0761   \n",
            "3     -4.860     1       0.0264       0.00757            0.0000    0.2450   \n",
            "4     -4.617     0       0.0309       0.03750            0.0000    0.2320   \n",
            "..       ...   ...          ...           ...               ...       ...   \n",
            "95    -6.402     0       0.0349       0.00879            0.0105    0.5290   \n",
            "96   -10.867     1       0.4910       0.01870            0.0000    0.0876   \n",
            "97    -5.092     1       0.1710       0.16500            0.0000    0.0957   \n",
            "98    -5.999     0       0.0476       0.03240            0.5270    0.0800   \n",
            "99    -5.145     1       0.1800       0.71700            0.0000    0.1500   \n",
            "\n",
            "    Valence    Tempo  \n",
            "0    0.2140  101.061  \n",
            "1    0.2620  180.098  \n",
            "2    0.6180  130.019  \n",
            "3    0.7310  127.986  \n",
            "4    0.5540  129.976  \n",
            "..      ...      ...  \n",
            "95   0.0726  126.040  \n",
            "96   0.5070  154.569  \n",
            "97   0.7720  147.964  \n",
            "98   0.3510  127.997  \n",
            "99   0.8270  163.119  \n",
            "\n",
            "[100 rows x 21 columns]\n"
          ]
        }
      ]
    },
    {
      "cell_type": "code",
      "source": [
        "print(music_df.isnull().sum())"
      ],
      "metadata": {
        "colab": {
          "base_uri": "https://localhost:8080/"
        },
        "id": "LK35cqWN2gvc",
        "outputId": "f4e8f3d6-9b75-47d3-9252-f7ce8591582c"
      },
      "execution_count": 5,
      "outputs": [
        {
          "output_type": "stream",
          "name": "stdout",
          "text": [
            "Track Name          0\n",
            "Artists             0\n",
            "Album Name          0\n",
            "Album ID            0\n",
            "Track ID            0\n",
            "Popularity          0\n",
            "Release Date        0\n",
            "Duration (ms)       0\n",
            "Explicit            0\n",
            "External URLs       0\n",
            "Danceability        0\n",
            "Energy              0\n",
            "Key                 0\n",
            "Loudness            0\n",
            "Mode                0\n",
            "Speechiness         0\n",
            "Acousticness        0\n",
            "Instrumentalness    0\n",
            "Liveness            0\n",
            "Valence             0\n",
            "Tempo               0\n",
            "dtype: int64\n"
          ]
        }
      ]
    },
    {
      "cell_type": "code",
      "source": [
        "import pandas as pd\n",
        "import numpy as np\n",
        "from sklearn.model_selection import train_test_split\n",
        "from sklearn.preprocessing import MinMaxScaler\n",
        "from datetime import datetime\n",
        "from sklearn.metrics.pairwise import cosine_similarity\n",
        "\n",
        "data = music_df"
      ],
      "metadata": {
        "id": "LdCbPEV02rFN"
      },
      "execution_count": 6,
      "outputs": []
    },
    {
      "cell_type": "code",
      "source": [
        "# Function to calculate weighted popularity scores based on release date\n",
        "def calculate_weighted_popularity(release_date):\n",
        "    # Convert the release date to datetime object\n",
        "    release_date = datetime.strptime(release_date, '%Y-%m-%d')\n",
        "\n",
        "    # Calculate the time span between release date and today's date\n",
        "    time_span = datetime.now() - release_date\n",
        "\n",
        "    # Calculate the weighted popularity score based on time span (e.g., more recent releases have higher weight)\n",
        "    weight = 1 / (time_span.days + 1)\n",
        "    return weight"
      ],
      "metadata": {
        "id": "9H36AEjb2sDG"
      },
      "execution_count": 7,
      "outputs": []
    },
    {
      "cell_type": "code",
      "source": [
        "# Normalize the music features using Min-Max scaling\n",
        "scaler = MinMaxScaler()\n",
        "music_features = music_df[['Danceability', 'Energy', 'Key',\n",
        "                           'Loudness', 'Mode', 'Speechiness', 'Acousticness',\n",
        "                           'Instrumentalness', 'Liveness', 'Valence', 'Tempo']].values\n",
        "music_features_scaled = scaler.fit_transform(music_features)"
      ],
      "metadata": {
        "id": "9V04ZyEQ4Q19"
      },
      "execution_count": 8,
      "outputs": []
    },
    {
      "cell_type": "markdown",
      "source": [
        "**Generating music recommendations based on the music audio features:**"
      ],
      "metadata": {
        "id": "9gopjF0A4ajK"
      }
    },
    {
      "cell_type": "code",
      "source": [
        "# a function to get content-based recommendations based on music features\n",
        "def content_based_recommendations(input_song_name, num_recommendations=5):\n",
        "    if input_song_name not in music_df['Track Name'].values:\n",
        "        print(f\"'{input_song_name}' not found in the dataset. Please enter a valid song name.\")\n",
        "        return\n",
        "\n",
        "    # Get the index of the input song in the music DataFrame\n",
        "    input_song_index = music_df[music_df['Track Name'] == input_song_name].index[0]\n",
        "\n",
        "    # Calculate the similarity scores based on music features (cosine similarity)\n",
        "    similarity_scores = cosine_similarity([music_features_scaled[input_song_index]], music_features_scaled)\n",
        "\n",
        "    # Get the indices of the most similar songs\n",
        "    similar_song_indices = similarity_scores.argsort()[0][::-1][1:num_recommendations + 1]\n",
        "\n",
        "    # Get the names of the most similar songs based on content-based filtering\n",
        "    content_based_recommendations = music_df.iloc[similar_song_indices][['Track Name', 'Artists', 'Album Name', 'Release Date', 'Popularity']]\n",
        "\n",
        "    return content_based_recommendations"
      ],
      "metadata": {
        "id": "ZorFNP8D4SXe"
      },
      "execution_count": 9,
      "outputs": []
    },
    {
      "cell_type": "markdown",
      "source": [
        "**Generating music recommendations based on weighted popularity and combining it with the recommendations of the content-based filtering method using the hybrid approach:**\n",
        "\n",
        "The hybrid approach aims to provide more personalized and relevant recommendations by considering both the content similarity of songs and their weighted popularity."
      ],
      "metadata": {
        "id": "e2Sp-tG84zzV"
      }
    },
    {
      "cell_type": "code",
      "source": [
        "import pandas as pd\n",
        "\n",
        "def hybrid_recommendations(input_song_name, num_recommendations=5, alpha=0.5):\n",
        "    if input_song_name not in music_df['Track Name'].values:\n",
        "        print(f\"'{input_song_name}' not found in the dataset. Please enter a valid song name.\")\n",
        "        return\n",
        "\n",
        "    content_based_rec = content_based_recommendations(input_song_name, num_recommendations)\n",
        "\n",
        "    popularity_score = music_df.loc[music_df['Track Name'] == input_song_name, 'Popularity'].values[0]\n",
        "\n",
        "    weighted_popularity_score = popularity_score * calculate_weighted_popularity(\n",
        "        music_df.loc[music_df['Track Name'] == input_song_name, 'Release Date'].values[0]\n",
        "    )\n",
        "\n",
        "    new_entry = pd.DataFrame({\n",
        "        'Track Name': [input_song_name],\n",
        "        'Artists': [music_df.loc[music_df['Track Name'] == input_song_name, 'Artists'].values[0]],\n",
        "        'Album Name': [music_df.loc[music_df['Track Name'] == input_song_name, 'Album Name'].values[0]],\n",
        "        'Release Date': [music_df.loc[music_df['Track Name'] == input_song_name, 'Release Date'].values[0]],\n",
        "        'Popularity': [weighted_popularity_score]\n",
        "    })\n",
        "\n",
        "    hybrid_recommendations = pd.concat([content_based_rec, new_entry], ignore_index=True)\n",
        "\n",
        "    hybrid_recommendations = hybrid_recommendations.sort_values(by='Popularity', ascending=False)\n",
        "\n",
        "    hybrid_recommendations = hybrid_recommendations[hybrid_recommendations['Track Name'] != input_song_name]\n",
        "\n",
        "    return hybrid_recommendations"
      ],
      "metadata": {
        "id": "YvsEb1Qj480B"
      },
      "execution_count": 10,
      "outputs": []
    },
    {
      "cell_type": "code",
      "source": [
        "input_song_name = \"Big Dawgs\"\n",
        "recommendations = hybrid_recommendations(input_song_name, num_recommendations=5)\n",
        "print(f\"Hybrid recommended songs for '{input_song_name}':\")\n",
        "print(recommendations)"
      ],
      "metadata": {
        "colab": {
          "base_uri": "https://localhost:8080/"
        },
        "id": "iChLg2vW5V1W",
        "outputId": "d2a521ae-4046-47fc-e9bb-37a6e54d21d3"
      },
      "execution_count": 12,
      "outputs": [
        {
          "output_type": "stream",
          "name": "stdout",
          "text": [
            "Hybrid recommended songs for 'Big Dawgs':\n",
            "                         Track Name                          Artists  \\\n",
            "2                   I'm Good (Blue)         David Guetta, Bebe Rexha   \n",
            "3  Vois sur ton chemin - Techno Mix                          BENNETT   \n",
            "1                           Lay Low                           Tiësto   \n",
            "0       Dernière danse - Techno Mix                  Indila, BENNETT   \n",
            "4                       In My Bones  Lost Frequencies, David Kushner   \n",
            "\n",
            "                         Album Name Release Date  Popularity  \n",
            "2                   I'm Good (Blue)   2022-08-26        88.0  \n",
            "3  Vois sur ton chemin (Techno Mix)   2023-08-04        83.0  \n",
            "1                           Lay Low   2023-01-06        76.0  \n",
            "0       Dernière danse (Techno Mix)   2024-01-26        75.0  \n",
            "4                       In My Bones   2024-04-19        73.0  \n"
          ]
        }
      ]
    }
  ]
}